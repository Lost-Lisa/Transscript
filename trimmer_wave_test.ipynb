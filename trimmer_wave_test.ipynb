{
 "cells": [
  {
   "cell_type": "code",
   "execution_count": 6,
   "metadata": {},
   "outputs": [
    {
     "ename": "TypeError",
     "evalue": "only size-1 arrays can be converted to Python scalars",
     "output_type": "error",
     "traceback": [
      "\u001b[1;31m---------------------------------------------------------------------------\u001b[0m",
      "\u001b[1;31mTypeError\u001b[0m                                 Traceback (most recent call last)",
      "\u001b[1;32m<ipython-input-6-b418aba92ad5>\u001b[0m in \u001b[0;36m<module>\u001b[1;34m\u001b[0m\n\u001b[0;32m      7\u001b[0m \u001b[1;33m\u001b[0m\u001b[0m\n\u001b[0;32m      8\u001b[0m \u001b[0ml1\u001b[0m \u001b[1;33m=\u001b[0m \u001b[0mnumpy\u001b[0m\u001b[1;33m.\u001b[0m\u001b[0marray\u001b[0m\u001b[1;33m(\u001b[0m\u001b[1;33m[\u001b[0m  \u001b[1;33m[\u001b[0m\u001b[1;36m7.2\u001b[0m\u001b[1;33m,\u001b[0m\u001b[1;36m19.8\u001b[0m\u001b[1;33m]\u001b[0m\u001b[1;33m,\u001b[0m \u001b[1;33m[\u001b[0m\u001b[1;36m35.3\u001b[0m\u001b[1;33m,\u001b[0m\u001b[1;36m67.23\u001b[0m\u001b[1;33m]\u001b[0m\u001b[1;33m,\u001b[0m \u001b[1;33m[\u001b[0m\u001b[1;36m103\u001b[0m\u001b[1;33m,\u001b[0m\u001b[1;36m110\u001b[0m \u001b[1;33m]\u001b[0m \u001b[1;33m]\u001b[0m\u001b[1;33m)\u001b[0m\u001b[1;33m\u001b[0m\u001b[1;33m\u001b[0m\u001b[0m\n\u001b[1;32m----> 9\u001b[1;33m \u001b[0ml1\u001b[0m \u001b[1;33m=\u001b[0m \u001b[0mmath\u001b[0m\u001b[1;33m.\u001b[0m\u001b[0mceil\u001b[0m\u001b[1;33m(\u001b[0m\u001b[0ml1\u001b[0m\u001b[1;33m*\u001b[0m\u001b[0mfs1\u001b[0m\u001b[1;33m)\u001b[0m\u001b[1;31m#get integer indices into the wav file - careful of end of array reading with a check for greater than y1.shape\u001b[0m\u001b[1;33m\u001b[0m\u001b[1;33m\u001b[0m\u001b[0m\n\u001b[0m\u001b[0;32m     10\u001b[0m \u001b[0mnewWavFileAsList\u001b[0m \u001b[1;33m=\u001b[0m \u001b[1;33m[\u001b[0m\u001b[1;33m]\u001b[0m\u001b[1;33m\u001b[0m\u001b[1;33m\u001b[0m\u001b[0m\n\u001b[0;32m     11\u001b[0m \u001b[1;32mfor\u001b[0m \u001b[0melem\u001b[0m \u001b[1;32min\u001b[0m \u001b[0ml1\u001b[0m\u001b[1;33m:\u001b[0m\u001b[1;33m\u001b[0m\u001b[1;33m\u001b[0m\u001b[0m\n",
      "\u001b[1;31mTypeError\u001b[0m: only size-1 arrays can be converted to Python scalars"
     ]
    }
   ],
   "source": [
    "import scipy.io.wavfile\n",
    "import numpy\n",
    "import math\n",
    "wave_audio = 'audio1'\n",
    "path1 = 'G:\\\\My Drive\\\\CLG_Project\\\\trimmer_test_audio\\\\'+wave_audio+'.wav'\n",
    "fs1, y1 = scipy.io.wavfile.read(path1)\n",
    "\n",
    "l1 = numpy.array([  [7.2,19.8], [35.3,67.23], [103,110 ] ])\n",
    "l1 = math.ceil(l1*fs1)#get integer indices into the wav file - careful of end of array reading with a check for greater than y1.shape\n",
    "newWavFileAsList = []\n",
    "for elem in l1:\n",
    "  startRead = elem[0]\n",
    "  endRead = elem[1]\n",
    "  if startRead >= y1.shape[0]:\n",
    "    startRead = y1.shape[0]-1\n",
    "  if endRead >= y1.shape[0]:\n",
    "    endRead = y1.shape[0]-1\n",
    "  newWavFileAsList.extend(y1[startRead:endRead])\n",
    "\n",
    "\n",
    "newWavFile = numpy.array(newWavFileAsList)\n",
    "\n",
    "new_wave_audio = 'trimmed'+wave_audio\n",
    "path2 = 'G:\\\\My Drive\\\\CLG_Project\\\\trimmer_test_audio\\\\'+wave_audio+'.wav'\n",
    "scipy.io.wavfile.write(path2, fs1, newWavFile)"
   ]
  },
  {
   "cell_type": "code",
   "execution_count": 18,
   "metadata": {},
   "outputs": [
    {
     "data": {
      "text/plain": [
       "<_io.BufferedRandom name='G:\\\\My Drive\\\\CLG_Project\\\\trimmer_test_audio\\\\trimmedaudio1.wav'>"
      ]
     },
     "execution_count": 18,
     "metadata": {},
     "output_type": "execute_result"
    }
   ],
   "source": [
    "from pydub import AudioSegment\n",
    "wave_audio = 'audio1'\n",
    "path1 = 'G:\\\\My Drive\\\\CLG_Project\\\\trimmer_test_audio\\\\'+wave_audio+'.wav'\n",
    "song = AudioSegment.from_wav(path1)\n",
    "# pydub does things in milliseconds\n",
    "ten_seconds = 10 * 1000\n",
    "\n",
    "first_10_seconds = song[:18*1000]+song[26*1000:]\n",
    "# last_5_seconds = song[26*1000:]\n",
    "backwards = song.reverse()\n",
    "new_audio = first_10_seconds\n",
    "\n",
    "\n",
    "new_wave_audio = 'trimmed'+wave_audio\n",
    "path2 = 'G:\\\\My Drive\\\\CLG_Project\\\\trimmer_test_audio\\\\'+new_wave_audio+'.wav'\n",
    "new_audio.export(path2, format='wav')"
   ]
  },
  {
   "cell_type": "code",
   "execution_count": 1,
   "metadata": {},
   "outputs": [
    {
     "name": "stdout",
     "output_type": "stream",
     "text": [
      "['dick']\n"
     ]
    }
   ],
   "source": [
    "# Start\n",
    "# checking credentials\n",
    "# Checked\n",
    "# audio file read\n",
    "# config start\n",
    "# encoding: FLAC\n",
    "# language_code: \"en-US\"\n",
    "# enable_word_time_offsets: true\n",
    "\n",
    "# Recognizing:\n",
    "# Recognized\n",
    "# Transcript: my name is Avinash\n",
    "# Confidence: 0.8671795129776001\n",
    "# Word: my, start_time: 0.4, end_time: 0.9\n",
    "# Word: name, start_time: 0.9, end_time: 1.2\n",
    "# Word: is, start_time: 1.2, end_time: 1.3\n",
    "# Word: Avinash, start_time: 1.3, end_time: 1.9\n",
    "# for word_info in alternative.words:\n",
    "# word = word_info.word\n",
    "# start_time = word_info.start_time\n",
    "# end_time = word_info.end_time\n",
    "\n",
    "li1 = [\"hello\",\"dick\",\"world\"]\n",
    "li2 = [\"hello\",\"world\"]\n",
    "\n",
    "def Diff(li1, li2):\n",
    "    li_dif = [i for i in li1 + li2 if i not in li1 or i not in li2]\n",
    "    return li_dif\n",
    " \n",
    "# Driver Code\n",
    "# li1 = [10, 15, 20, 25, 30, 35, 40]\n",
    "# li2 = [25, 40, 35]\n",
    "li3 = Diff(li1, li2)\n",
    "print(li3)"
   ]
  },
  {
   "cell_type": "code",
   "execution_count": 7,
   "metadata": {},
   "outputs": [
    {
     "name": "stdout",
     "output_type": "stream",
     "text": [
      "this is having a singer and I'm studying in Amity  wasting my time sorry study in college\n",
      "['University']\n"
     ]
    }
   ],
   "source": [
    "def Diff(li1, li2):\n",
    "    li_dif = [i for i in li1 + li2 if i not in li1 or i not in li2]\n",
    "    return li_dif\n",
    "script = \"this is having a singer and I'm studying in Amity University wasting my time sorry study in college\"\n",
    "# new_script = \"my name  Avinash\"\n",
    "new_script = str(input())\n",
    "# Driver Code\n",
    "# li1 = ['my', 'name', 'is', 'Avinash']\n",
    "li1 = script.split()\n",
    "# tran_script\n",
    "li2 = new_script.split()\n",
    "li3 = Diff(li1, li2)\n",
    "print(li3)"
   ]
  },
  {
   "cell_type": "code",
   "execution_count": 4,
   "metadata": {},
   "outputs": [
    {
     "ename": "SyntaxError",
     "evalue": "invalid syntax (<ipython-input-4-e7e0f6d84506>, line 17)",
     "output_type": "error",
     "traceback": [
      "\u001b[1;36m  File \u001b[1;32m\"<ipython-input-4-e7e0f6d84506>\"\u001b[1;36m, line \u001b[1;32m17\u001b[0m\n\u001b[1;33m    cut_end = word[]\u001b[0m\n\u001b[1;37m                   ^\u001b[0m\n\u001b[1;31mSyntaxError\u001b[0m\u001b[1;31m:\u001b[0m invalid syntax\n"
     ]
    }
   ],
   "source": [
    "from pydub import AudioSegment\n",
    "wave_audio = 'avinash'\n",
    "path1 = 'G:\\\\My Drive\\\\CLG_Project\\\\trimmer_test_audio\\\\'+wave_audio+'.wav'\n",
    "make = AudioSegment.from_wav(path1)\n",
    "# pydub does things in milliseconds\n",
    "#ten_seconds = 10 * 1000\n",
    "a = 0.9\n",
    "b = 1.2\n",
    "c = 1.3\n",
    "d = 1.9\n",
    "cut_word = [[0.9,1.2],[1.3,1.9]]\n",
    "\n",
    "first_10_seconds = make[:cut_start]+make[cut_end:]\n",
    "if len(cut_word)>1:\n",
    "    for word in cut_word:\n",
    "        cut_start = word\n",
    "        cut_end = word[]\n",
    "        make[:cut_start]+make[cut_end:]\n",
    "        \n",
    "#         print(cut_start,cut_end)\n",
    "        print(words)\n",
    "elif len(cut_word)==1:\n",
    "    cut_start = find_start_time(cut_word,word_dict)\n",
    "    cut_end = find_end_time(cut_word,word_dict)\n",
    "\n",
    "\n",
    "\n",
    "\n",
    "# last_5_seconds = song[26*1000:]\n",
    "#backwards = song.reverse()\n",
    "new_audio = first_10_seconds\n",
    "\n",
    "\n",
    "new_wave_audio = 'trimmed'+wave_audio\n",
    "path2 = 'G:\\\\My Drive\\\\CLG_Project\\\\trimmer_test_audio\\\\'+new_wave_audio+'.wav'\n",
    "new_audio.export(path2, format='wav')"
   ]
  }
 ],
 "metadata": {
  "kernelspec": {
   "display_name": "Python 3",
   "language": "python",
   "name": "python3"
  },
  "language_info": {
   "codemirror_mode": {
    "name": "ipython",
    "version": 3
   },
   "file_extension": ".py",
   "mimetype": "text/x-python",
   "name": "python",
   "nbconvert_exporter": "python",
   "pygments_lexer": "ipython3",
   "version": "3.8.3"
  }
 },
 "nbformat": 4,
 "nbformat_minor": 4
}
